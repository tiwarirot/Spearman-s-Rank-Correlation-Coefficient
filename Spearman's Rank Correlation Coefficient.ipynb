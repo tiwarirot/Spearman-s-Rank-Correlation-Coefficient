{
 "cells": [
  {
   "cell_type": "code",
   "execution_count": null,
   "metadata": {},
   "outputs": [],
   "source": [
    "#Given two n-element data sets, X and Y, calculate the value of Spearman's rank correlation coefficient."
   ]
  },
  {
   "cell_type": "code",
   "execution_count": 33,
   "metadata": {},
   "outputs": [
    {
     "name": "stdout",
     "output_type": "stream",
     "text": [
      "10\n",
      "10 9.8 8 7.8 7.7 1.7 6 5 1.4 2\n",
      "200 44 32 24 22 17 15 12 8 4\n",
      "0.903\n"
     ]
    }
   ],
   "source": [
    "#Approach 1\n",
    "from scipy.stats import spearmanr\n",
    "n = int(input())\n",
    "X = list(map(float, input().split()))\n",
    "Y = list(map(float, input().split()))\n",
    "corr, _ = spearmanr(X,Y)\n",
    "print(round(corr, 3))"
   ]
  },
  {
   "cell_type": "code",
   "execution_count": 32,
   "metadata": {},
   "outputs": [
    {
     "name": "stdout",
     "output_type": "stream",
     "text": [
      "10\n",
      "10 9.8 8 7.8 7.7 1.7 6 5 1.4 2\n",
      "200 44 32 24 22 17 15 12 8 4\n",
      "0.903\n"
     ]
    }
   ],
   "source": [
    "#Approach 2\n",
    "import scipy.stats as ss\n",
    "n = int(input())\n",
    "X = list(map(float, input().split()))\n",
    "Y = list(map(float, input().split()))\n",
    "rX = ss.rankdata(X)\n",
    "rY = ss.rankdata(Y)\n",
    "ds = ([(rX[i] -rY[i])**2 for i in range(n)])\n",
    "corr1 = 6*sum(ds)\n",
    "corr2 = n*(n**2-1)\n",
    "corr3 = corr1/corr2\n",
    "corr = 1 - corr3\n",
    "print(round(corr,3))"
   ]
  },
  {
   "cell_type": "code",
   "execution_count": 31,
   "metadata": {},
   "outputs": [
    {
     "name": "stdout",
     "output_type": "stream",
     "text": [
      "10\n",
      "10 9.8 8 7.8 7.7 1.7 6 5 1.4 2\n",
      "200 44 32 24 22 17 15 12 8 4\n",
      "0.903\n"
     ]
    }
   ],
   "source": [
    "#Approach 3\n",
    "def get_rank(X, n):\n",
    "    x_rank = dict((x, i+1) for i, x in enumerate(sorted(set(X))))\n",
    "    return [x_rank[x] for x in X]\n",
    "    \n",
    "n = int(input())\n",
    "X = list(map(float, input().split()))\n",
    "Y = list(map(float, input().split()))\n",
    "\n",
    "rx = get_rank(X, n)\n",
    "ry = get_rank(Y, n)\n",
    "\n",
    "d = [(rx[i] -ry[i])**2 for i in range(n)]\n",
    "rxy = 1 - (6 * sum(d)) / (n * (n*n - 1))\n",
    "\n",
    "print('%.3f' % rxy)"
   ]
  },
  {
   "cell_type": "code",
   "execution_count": null,
   "metadata": {},
   "outputs": [],
   "source": []
  }
 ],
 "metadata": {
  "kernelspec": {
   "display_name": "Python 3",
   "language": "python",
   "name": "python3"
  },
  "language_info": {
   "codemirror_mode": {
    "name": "ipython",
    "version": 3
   },
   "file_extension": ".py",
   "mimetype": "text/x-python",
   "name": "python",
   "nbconvert_exporter": "python",
   "pygments_lexer": "ipython3",
   "version": "3.6.5"
  }
 },
 "nbformat": 4,
 "nbformat_minor": 2
}
